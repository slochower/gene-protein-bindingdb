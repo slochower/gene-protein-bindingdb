{
 "cells": [
  {
   "cell_type": "code",
   "execution_count": 44,
   "metadata": {},
   "outputs": [],
   "source": [
    "%load_ext blackcellmagic\n",
    "import numpy as np"
   ]
  },
  {
   "cell_type": "code",
   "execution_count": 46,
   "metadata": {},
   "outputs": [],
   "source": [
    "def calculate_molarity(\n",
    "    solute_charge,\n",
    "    positive_counterions,\n",
    "    negative_counterions,\n",
    "    volume,\n",
    "    positive_valency=1,\n",
    "    negative_valency=1,\n",
    "):\n",
    "\n",
    "    positive_charges = positive_counterions * positive_valency\n",
    "    negative_charges = negative_counterions * negative_valency\n",
    "\n",
    "    if positive_valency == 1:\n",
    "        # Sodium\n",
    "        positive_mass = 22.9898\n",
    "    elif positive_valency == 2:\n",
    "        # Calcium\n",
    "        positive_mass = 40.078\n",
    "    # Chlorine\n",
    "    negative_mass = 35.453\n",
    "\n",
    "    if solute_charge < 0:\n",
    "        positive_added_to_neuralize = np.ceil(abs(solute_charge) / positive_valency)\n",
    "        negative_added_to_neutralize = 0\n",
    "    elif solute_charge > 0:\n",
    "        positive_added_to_neuralize = 0\n",
    "        negative_added_to_neutralize = np.ceil(abs(solute_charge) / negative_valency)\n",
    "    else:\n",
    "        positive_added_to_neuralize = 0\n",
    "        negative_added_to_neutralize = 0\n",
    "\n",
    "    print(\n",
    "        f\"{positive_added_to_neuralize} POSITIVE, {negative_added_to_neutralize} NEGATIVE for neutralization...\"\n",
    "    )\n",
    "    print(\n",
    "        f\"{positive_counterions - positive_added_to_neuralize} excess POSITIVE, {negative_counterions - negative_added_to_neutralize} excess NEGATIVE...\"\n",
    "    )\n",
    "\n",
    "    counterion_mass = (positive_counterions - positive_added_to_neuralize) * positive_mass + (\n",
    "        negative_counterions - negative_added_to_neutralize\n",
    "    ) * negative_mass\n",
    "\n",
    "    AMU_TO_GRAMS = 1.66054 * 10 ** -24\n",
    "    molar_concentration = (\n",
    "        counterion_mass * (AMU_TO_GRAMS) / (positive_mass + negative_mass)\n",
    "    )\n",
    "\n",
    "    ANGSTROM_CUBED_TO_LITERS = 1 * 10 ** -27\n",
    "    liters = volume * ANGSTROM_CUBED_TO_LITERS\n",
    "\n",
    "    moles_per_liter = molar_concentration / liters\n",
    "    print(f\"Counterion molarity {moles_per_liter:0.3f} (beyond neutralization)...\")\n"
   ]
  },
  {
   "cell_type": "code",
   "execution_count": 47,
   "metadata": {},
   "outputs": [],
   "source": [
    "x = 14.723\n",
    "y = 14.723\n",
    "z = 12.3384"
   ]
  },
  {
   "cell_type": "code",
   "execution_count": 48,
   "metadata": {},
   "outputs": [],
   "source": [
    "volume = x * y * z * 1000"
   ]
  },
  {
   "cell_type": "code",
   "execution_count": 49,
   "metadata": {},
   "outputs": [
    {
     "name": "stdout",
     "output_type": "stream",
     "text": [
      "100.0 POSITIVE, 0 NEGATIVE for neutralization...\n",
      "277.0 excess POSITIVE, 277 excess NEGATIVE...\n",
      "Counterion molarity 0.172 (beyond neutralization)...\n"
     ]
    }
   ],
   "source": [
    "calculate_molarity(-100, 377, 277, volume)"
   ]
  },
  {
   "cell_type": "code",
   "execution_count": 50,
   "metadata": {},
   "outputs": [
    {
     "name": "stdout",
     "output_type": "stream",
     "text": [
      "50.0 POSITIVE, 0 NEGATIVE for neutralization...\n",
      "138.0 excess POSITIVE, 139 excess NEGATIVE...\n",
      "Counterion molarity 0.086 (beyond neutralization)...\n"
     ]
    }
   ],
   "source": [
    "calculate_molarity(-100, 188, 139, volume, 2, 2)"
   ]
  },
  {
   "cell_type": "code",
   "execution_count": 51,
   "metadata": {},
   "outputs": [
    {
     "name": "stdout",
     "output_type": "stream",
     "text": [
      "50.0 POSITIVE, 0 NEGATIVE for neutralization...\n",
      "294.0 excess POSITIVE, 244 excess NEGATIVE...\n",
      "Counterion molarity 0.168 (beyond neutralization)...\n"
     ]
    }
   ],
   "source": [
    "calculate_molarity(-100, 344, 244, volume=volume,\n",
    "                  positive_valency=2,\n",
    "                  negative_valency=1)"
   ]
  },
  {
   "cell_type": "code",
   "execution_count": null,
   "metadata": {},
   "outputs": [],
   "source": []
  }
 ],
 "metadata": {
  "kernelspec": {
   "display_name": "Python [default]",
   "language": "python",
   "name": "python3"
  },
  "language_info": {
   "codemirror_mode": {
    "name": "ipython",
    "version": 3
   },
   "file_extension": ".py",
   "mimetype": "text/x-python",
   "name": "python",
   "nbconvert_exporter": "python",
   "pygments_lexer": "ipython3",
   "version": "3.6.4"
  }
 },
 "nbformat": 4,
 "nbformat_minor": 2
}
