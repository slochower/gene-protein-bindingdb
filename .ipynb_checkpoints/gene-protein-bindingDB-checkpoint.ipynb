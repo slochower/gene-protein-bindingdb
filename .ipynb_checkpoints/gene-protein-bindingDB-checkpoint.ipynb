{
 "cells": [
  {
   "cell_type": "markdown",
   "metadata": {},
   "source": [
    "# Analysis of SI Table 6 for genes overexpressed in cancer\n",
    "\n",
    "**Genes overexpressed in different human solid cancers exhibit different tissue-specific expression profiles**"
   ]
  },
  {
   "cell_type": "code",
   "execution_count": 304,
   "metadata": {},
   "outputs": [
    {
     "name": "stdout",
     "output_type": "stream",
     "text": [
      "The blackcellmagic extension is already loaded. To reload it, use:\n",
      "  %reload_ext blackcellmagic\n"
     ]
    }
   ],
   "source": [
    "%load_ext blackcellmagic\n",
    "from glob import glob as glob\n",
    "from io import StringIO\n",
    "import os as os\n",
    "\n",
    "import pandas as pd\n",
    "import urllib\n",
    "import json"
   ]
  },
  {
   "cell_type": "markdown",
   "metadata": {},
   "source": [
    "To make things easier, I'm going to split Table 6 into separate tables for each type of cancer and then save as a `csv`."
   ]
  },
  {
   "cell_type": "code",
   "execution_count": 310,
   "metadata": {},
   "outputs": [],
   "source": [
    "file_list = glob(\"*.csv\")"
   ]
  },
  {
   "cell_type": "code",
   "execution_count": 312,
   "metadata": {},
   "outputs": [
    {
     "data": {
      "text/plain": [
       "['melanoma.csv',\n",
       " 'endometrial.csv',\n",
       " 'lung.csv',\n",
       " 'kidney.csv',\n",
       " 'colon.csv',\n",
       " 'ovarian.csv',\n",
       " 'astrocytoma.csv',\n",
       " 'liver.csv',\n",
       " 'thyroid.csv',\n",
       " 'breast.csv',\n",
       " 'glioblastoma.csv',\n",
       " 'prostate.csv']"
      ]
     },
     "execution_count": 312,
     "metadata": {},
     "output_type": "execute_result"
    }
   ],
   "source": [
    "file_list"
   ]
  },
  {
   "cell_type": "markdown",
   "metadata": {},
   "source": [
    "Now, define the helper functions."
   ]
  },
  {
   "cell_type": "code",
   "execution_count": 315,
   "metadata": {},
   "outputs": [],
   "source": [
    "def get_uniprot(gene):\n",
    "    \"\"\"\n",
    "    Look up gene name in Uniprot.\n",
    "    \"\"\"\n",
    "    # print(f\"Looking up {gene} in Uniprot database...\")\n",
    "    url = f\"https://www.uniprot.org/uniprot/?query=reviewed:yes+AND+organism:9606+AND+gene_exact:{gene}&format=tab\"\n",
    "    request = urllib.request.Request(url)\n",
    "    try:\n",
    "        response = urllib.request.urlopen(request)\n",
    "    except urllib.error.HTTPError as e:\n",
    "        return None\n",
    "    page = response.read(200000)\n",
    "    return pd.read_csv(StringIO(page.decode(\"utf-8\")), sep=\"\\t\")\n"
   ]
  },
  {
   "cell_type": "code",
   "execution_count": 316,
   "metadata": {},
   "outputs": [],
   "source": [
    "def get_bindingdb(uniprot):\n",
    "    \"\"\"\n",
    "    Look up uniprot in Binding DB.\n",
    "    \"\"\"\n",
    "    # print(f\"Looking up {uniprot} in BindingDB...\")\n",
    "    url = f\"http://www.bindingdb.org/axis2/services/BDBService/getLigandsByUniprots?uniprot={uniprot}&cutoff=1000&code=0&response=application/json\"\n",
    "    request = urllib.request.Request(url)\n",
    "    try:\n",
    "        response = urllib.request.urlopen(request)\n",
    "    except urllib.error.HTTPError as e:\n",
    "        return None\n",
    "\n",
    "    page = response.read(200000)\n",
    "    binding_db = json.loads(page.decode(\"utf-8\"))\n",
    "    if binding_db[\"getLigandsByUniprotsResponse\"] == \"\":\n",
    "        return None\n",
    "    return pd.DataFrame(binding_db[\"getLigandsByUniprotsResponse\"][\"affinities\"])\n"
   ]
  },
  {
   "cell_type": "code",
   "execution_count": 317,
   "metadata": {},
   "outputs": [],
   "source": [
    "def bindingdb_to_table(table):\n",
    "    \"\"\"\n",
    "    Parse the Binding DB `json` response.\n",
    "    \"\"\"\n",
    "\n",
    "    query = table[\"query\"].values[0]\n",
    "    affinities = table[\"affinity\"].values\n",
    "    affinity_types = table[\"affinity_type\"].values\n",
    "    smiles = table[\"smile\"].values\n",
    "    return pd.DataFrame(\n",
    "        {\n",
    "            \"Affinities\": affinities,\n",
    "            \"Affinity type\": affinity_types,\n",
    "            \"SMILES\": smiles,\n",
    "            \"Query\": query,\n",
    "        }\n",
    "    )\n"
   ]
  },
  {
   "cell_type": "code",
   "execution_count": 318,
   "metadata": {},
   "outputs": [],
   "source": [
    "def manual_pivot(table):\n",
    "    \"\"\"\n",
    "    The data we get from Binding DB will be in rows.\n",
    "    But we want each row to basically be a new column, so that gene names are the rows.\n",
    "    \"\"\"\n",
    "    # I had problems working with the built-in `pivot` because the data is non-numeric\n",
    "    # tmp3 = tmp2.pivot_table(index=\"Query\",\n",
    "    #                        columns=tmp2.index,\n",
    "    #                        values=[\"Affinities\"],\n",
    "    #                        aggfunc=lambda x: ' '.join(x))\n",
    "\n",
    "    df = pd.DataFrame()\n",
    "    for row in range(len(table)):\n",
    "        df[f\"Affinity {row:03d}\"] = pd.Series(table[\"Affinities\"][row])\n",
    "        df[f\"Type {row:03d}\"] = pd.Series(table[\"Affinity type\"][row])\n",
    "        df[f\"SMILES {row:03d}\"] = pd.Series(table[\"SMILES\"][row])\n",
    "    return df\n"
   ]
  },
  {
   "cell_type": "markdown",
   "metadata": {},
   "source": [
    "Loop over the files, then loop over the genes.\n",
    "\n",
    "To start I'm just looping over the breast cancer data to see if I can match the one file that Tiqing returned.\n",
    "\n",
    "First, I map from gene to protein and Uniprot ID. That is stored in the `gene_df` DataFrame.\n",
    "Then I use the Uniprot ID to look up data from Binding DB.\n",
    "\n",
    "Then I join `gene_df` and the Binding DB data."
   ]
  },
  {
   "cell_type": "code",
   "execution_count": null,
   "metadata": {},
   "outputs": [
    {
     "name": "stdout",
     "output_type": "stream",
     "text": [
      "COL11A1    → P12107     →    0 ligands found...\n",
      "COL10A1    → Q03692     →    0 ligands found...\n"
     ]
    }
   ],
   "source": [
    "for file in [file_list[-3]]:\n",
    "    table = pd.read_csv(file, skiprows=1, names=[\"Unknown\", \"Gene\", \"Overexpression\"])\n",
    "    table = table.drop_duplicates(subset=\"Gene\", keep=\"first\")\n",
    "    df = pd.DataFrame()\n",
    "    for gene, overexpression in zip(\n",
    "        table[\"Gene\"].values, table[\"Overexpression\"].values\n",
    "    ):\n",
    "\n",
    "        if gene == \"---\":\n",
    "            continue\n",
    "        if \"///\" in gene:\n",
    "            gene = gene.split(\"///\")[0]\n",
    "\n",
    "        gene_table = get_uniprot(gene)\n",
    "        if gene_table is None:\n",
    "            continue\n",
    "        uniprot = gene_table[\"Entry\"].values[0]\n",
    "        protein = gene_table[\"Protein names\"].values[0]\n",
    "\n",
    "        gene_df = pd.DataFrame()\n",
    "        gene_df[\"Gene\"] = pd.Series(gene)\n",
    "        gene_df[\"Uniprot\"] = pd.Series(uniprot)\n",
    "        gene_df[\"Protein\"] = pd.Series(protein)\n",
    "        gene_df[\"Overexpression\"] = pd.Series(overexpression)\n",
    "\n",
    "        binding_db = get_bindingdb(uniprot)\n",
    "\n",
    "        if binding_db is not None:\n",
    "            print(f\"{gene:10} → {uniprot:10} → {len(binding_db):4} ligands found...\")\n",
    "            binding_table = bindingdb_to_table(binding_db)\n",
    "            binding_pivot = manual_pivot(binding_table)\n",
    "\n",
    "            gene_df = gene_df.join(binding_pivot)\n",
    "            # Only track the proteins with entries in BindingDB\n",
    "            df = df.append(gene_df, ignore_index=True)\n",
    "        else:\n",
    "            print(f\"{gene:10} → {uniprot:10} → {'0':>4} ligands found...\")\n",
    "            pass\n",
    "    df.to_csv(os.path.splitext(file)[0] + \"-ligands.csv\")\n"
   ]
  },
  {
   "cell_type": "code",
   "execution_count": null,
   "metadata": {},
   "outputs": [],
   "source": []
  }
 ],
 "metadata": {
  "kernelspec": {
   "display_name": "Python [default]",
   "language": "python",
   "name": "python3"
  },
  "language_info": {
   "codemirror_mode": {
    "name": "ipython",
    "version": 3
   },
   "file_extension": ".py",
   "mimetype": "text/x-python",
   "name": "python",
   "nbconvert_exporter": "python",
   "pygments_lexer": "ipython3",
   "version": "3.6.4"
  }
 },
 "nbformat": 4,
 "nbformat_minor": 2
}
